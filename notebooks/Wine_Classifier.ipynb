{
  "nbformat": 4,
  "nbformat_minor": 0,
  "metadata": {
    "colab": {
      "name": "Wine Classifier.ipynb",
      "provenance": [],
      "collapsed_sections": []
    },
    "kernelspec": {
      "name": "python3",
      "display_name": "Python 3"
    },
    "language_info": {
      "name": "python"
    }
  },
  "cells": [
    {
      "cell_type": "markdown",
      "metadata": {
        "id": "H1i2yFEenBM8"
      },
      "source": [
        "#Wine Type Classifier (Red/White)\n",
        "\n",
        "The purpose of this project is to exercise model selection and optimization for classification as well as some simple variable exploration methods. In this notebook, I have joined two datasets with characteristics of wine to run a classification model that will determine whether a wine is red or white. "
      ]
    },
    {
      "cell_type": "code",
      "metadata": {
        "id": "rbyjDM5HwDVc"
      },
      "source": [
        "import pandas as pd\n",
        "import matplotlib.pyplot as plt\n",
        "import numpy as np\n",
        "from sklearn.preprocessing import StandardScaler\n",
        "from sklearn.neighbors import KNeighborsRegressor\n",
        "from sklearn.linear_model import LinearRegression\n",
        "from sklearn.linear_model import Ridge\n",
        "from sklearn.linear_model import Lasso\n",
        "from sklearn.model_selection import train_test_split\n",
        "from sklearn.model_selection import cross_val_score\n",
        "from sklearn.model_selection import RepeatedKFold\n",
        "from sklearn.model_selection import StratifiedKFold\n",
        "from sklearn.model_selection import KFold\n",
        "from sklearn.model_selection import GridSearchCV"
      ],
      "execution_count": 74,
      "outputs": []
    },
    {
      "cell_type": "markdown",
      "metadata": {
        "id": "i15_2xKvrvx5"
      },
      "source": [
        "###Importing and Data Prep\n",
        "\n",
        "The white wines dataset and red wine dataset have been joined/coded so that red wines = 1, and white wines = 0. "
      ]
    },
    {
      "cell_type": "code",
      "metadata": {
        "colab": {
          "base_uri": "https://localhost:8080/"
        },
        "id": "0xlxZ3g1rzeG",
        "outputId": "16f04ad2-2013-4721-c573-739f20d3adcc"
      },
      "source": [
        "red = pd.read_csv(\"https://archive.ics.uci.edu/ml/machine-learning-databases/wine-quality/winequality-red.csv\", sep=';')\n",
        "white = pd.read_csv(\"https://archive.ics.uci.edu/ml/machine-learning-databases/wine-quality/winequality-white.csv\", sep=';')\n",
        "\n",
        "red['winetype'] = 1\n",
        "white['winetype'] = 0\n",
        "both = white.append(red)\n",
        "\n",
        "#checking new dataframe label counts\n",
        "print(both[\"winetype\"].value_counts())"
      ],
      "execution_count": 75,
      "outputs": [
        {
          "output_type": "stream",
          "name": "stdout",
          "text": [
            "0    4898\n",
            "1    1599\n",
            "Name: winetype, dtype: int64\n"
          ]
        }
      ]
    },
    {
      "cell_type": "markdown",
      "source": [
        "The data is highly unbalanced. There are about 3 times as many white wines as there are red wines. Therefore, we must resample to the shape of redwine data the white wines data so that we do not overfit our models later on."
      ],
      "metadata": {
        "id": "JbgdWRfvuzbV"
      }
    },
    {
      "cell_type": "code",
      "source": [
        "white = white.sample(red.shape[0])\n",
        "both = white.append(red, ignore_index=True)\n",
        "print(both[\"winetype\"].value_counts())"
      ],
      "metadata": {
        "colab": {
          "base_uri": "https://localhost:8080/"
        },
        "id": "G78q_uPxvH75",
        "outputId": "31051bae-2903-446c-bdd2-aef9973e250e"
      },
      "execution_count": 76,
      "outputs": [
        {
          "output_type": "stream",
          "name": "stdout",
          "text": [
            "0    1599\n",
            "1    1599\n",
            "Name: winetype, dtype: int64\n"
          ]
        }
      ]
    },
    {
      "cell_type": "markdown",
      "metadata": {
        "id": "Y0WEawt7tpb5"
      },
      "source": [
        "### Variable Exploration"
      ]
    },
    {
      "cell_type": "code",
      "metadata": {
        "colab": {
          "base_uri": "https://localhost:8080/"
        },
        "id": "enxDtHBNuGQZ",
        "outputId": "0841a331-1a95-4d31-aaa0-643234b2f7f0"
      },
      "source": [
        "print(both.head())\n",
        "print(red.describe())\n",
        "print(white.describe())\n"
      ],
      "execution_count": 77,
      "outputs": [
        {
          "output_type": "stream",
          "name": "stdout",
          "text": [
            "   fixed acidity  volatile acidity  citric acid  residual sugar  chlorides  \\\n",
            "0            6.2              0.35         0.20            18.1      0.069   \n",
            "1            7.6              0.27         0.52             3.2      0.043   \n",
            "2            7.2              0.08         0.49             1.3      0.050   \n",
            "3            6.1              0.19         0.37             2.6      0.041   \n",
            "4            6.3              0.35         0.30             5.7      0.035   \n",
            "\n",
            "   free sulfur dioxide  total sulfur dioxide  density    pH  sulphates  \\\n",
            "0                 33.0                 158.0  0.99908  3.15       0.50   \n",
            "1                 28.0                 152.0  0.99129  3.02       0.53   \n",
            "2                 18.0                 148.0  0.99450  3.46       0.44   \n",
            "3                 24.0                  99.0  0.99153  3.18       0.50   \n",
            "4                  8.0                  97.0  0.99270  3.27       0.41   \n",
            "\n",
            "   alcohol  quality  winetype  \n",
            "0      8.8        6         0  \n",
            "1     11.4        6         0  \n",
            "2     10.2        6         0  \n",
            "3     10.9        6         0  \n",
            "4     11.0        7         0  \n",
            "       fixed acidity  volatile acidity  citric acid  residual sugar  \\\n",
            "count    1599.000000       1599.000000  1599.000000     1599.000000   \n",
            "mean        8.319637          0.527821     0.270976        2.538806   \n",
            "std         1.741096          0.179060     0.194801        1.409928   \n",
            "min         4.600000          0.120000     0.000000        0.900000   \n",
            "25%         7.100000          0.390000     0.090000        1.900000   \n",
            "50%         7.900000          0.520000     0.260000        2.200000   \n",
            "75%         9.200000          0.640000     0.420000        2.600000   \n",
            "max        15.900000          1.580000     1.000000       15.500000   \n",
            "\n",
            "         chlorides  free sulfur dioxide  total sulfur dioxide      density  \\\n",
            "count  1599.000000          1599.000000           1599.000000  1599.000000   \n",
            "mean      0.087467            15.874922             46.467792     0.996747   \n",
            "std       0.047065            10.460157             32.895324     0.001887   \n",
            "min       0.012000             1.000000              6.000000     0.990070   \n",
            "25%       0.070000             7.000000             22.000000     0.995600   \n",
            "50%       0.079000            14.000000             38.000000     0.996750   \n",
            "75%       0.090000            21.000000             62.000000     0.997835   \n",
            "max       0.611000            72.000000            289.000000     1.003690   \n",
            "\n",
            "                pH    sulphates      alcohol      quality  winetype  \n",
            "count  1599.000000  1599.000000  1599.000000  1599.000000    1599.0  \n",
            "mean      3.311113     0.658149    10.422983     5.636023       1.0  \n",
            "std       0.154386     0.169507     1.065668     0.807569       0.0  \n",
            "min       2.740000     0.330000     8.400000     3.000000       1.0  \n",
            "25%       3.210000     0.550000     9.500000     5.000000       1.0  \n",
            "50%       3.310000     0.620000    10.200000     6.000000       1.0  \n",
            "75%       3.400000     0.730000    11.100000     6.000000       1.0  \n",
            "max       4.010000     2.000000    14.900000     8.000000       1.0  \n",
            "       fixed acidity  volatile acidity  citric acid  residual sugar  \\\n",
            "count    1599.000000       1599.000000  1599.000000     1599.000000   \n",
            "mean        6.828487          0.277070     0.331370        6.503252   \n",
            "std         0.851800          0.099683     0.117869        5.124614   \n",
            "min         4.200000          0.080000     0.000000        0.700000   \n",
            "25%         6.300000          0.210000     0.260000        1.700000   \n",
            "50%         6.700000          0.260000     0.310000        5.200000   \n",
            "75%         7.300000          0.320000     0.380000        9.900000   \n",
            "max        14.200000          1.005000     1.000000       31.600000   \n",
            "\n",
            "         chlorides  free sulfur dioxide  total sulfur dioxide      density  \\\n",
            "count  1599.000000          1599.000000           1599.000000  1599.000000   \n",
            "mean      0.045929            35.606316            138.051595     0.994052   \n",
            "std       0.021807            17.750010             42.275088     0.002933   \n",
            "min       0.012000             2.000000              9.000000     0.987110   \n",
            "25%       0.036000            23.000000            110.000000     0.991800   \n",
            "50%       0.043000            34.000000            134.000000     0.993800   \n",
            "75%       0.050000            45.500000            166.000000     0.996040   \n",
            "max       0.240000           289.000000            440.000000     1.010300   \n",
            "\n",
            "                pH    sulphates      alcohol      quality  winetype  \n",
            "count  1599.000000  1599.000000  1599.000000  1599.000000    1599.0  \n",
            "mean      3.183777     0.490544    10.490873     5.875547       0.0  \n",
            "std       0.147850     0.111499     1.216229     0.893669       0.0  \n",
            "min       2.770000     0.270000     8.000000     3.000000       0.0  \n",
            "25%       3.090000     0.410000     9.400000     5.000000       0.0  \n",
            "50%       3.170000     0.480000    10.400000     6.000000       0.0  \n",
            "75%       3.280000     0.550000    11.300000     6.000000       0.0  \n",
            "max       3.800000     1.060000    14.000000     9.000000       0.0  \n"
          ]
        }
      ]
    },
    {
      "cell_type": "markdown",
      "source": [
        "The univariate distributions below are to show a general sense of how wines are distributed in attributes such as volatile acidity, pH level, and free sulfur dioxide."
      ],
      "metadata": {
        "id": "wui-Vok_u4PJ"
      }
    },
    {
      "cell_type": "code",
      "metadata": {
        "colab": {
          "base_uri": "https://localhost:8080/",
          "height": 279
        },
        "id": "tmbm5v2xsf45",
        "outputId": "2d1c2147-af35-41af-f34e-6bef0af194e6"
      },
      "source": [
        "plt.hist(both['volatile acidity'])\n",
        "plt.xlabel('Volatile Acidity')\n",
        "plt.ylabel('Frequency (Number of Bottles)')\n",
        "plt.show()"
      ],
      "execution_count": 78,
      "outputs": [
        {
          "output_type": "display_data",
          "data": {
            "text/plain": [
              "<Figure size 432x288 with 1 Axes>"
            ],
            "image/png": "[encoded data removed]"
          },
          "metadata": {
            "needs_background": "light"
          }
        }
      ]
    },
    {
      "cell_type": "code",
      "metadata": {
        "colab": {
          "base_uri": "https://localhost:8080/",
          "height": 279
        },
        "id": "x96M0x_86fsd",
        "outputId": "4a65c005-d255-4752-ff14-a1a401899e23"
      },
      "source": [
        "plt.hist(both['pH'])\n",
        "plt.xlabel('pH Level')\n",
        "plt.ylabel('Frequency (Number of Bottles)')\n",
        "plt.show()"
      ],
      "execution_count": 79,
      "outputs": [
        {
          "output_type": "display_data",
          "data": {
            "text/plain": [
              "<Figure size 432x288 with 1 Axes>"
            ],
            "image/png": "[encoded data removed]"
          },
          "metadata": {
            "needs_background": "light"
          }
        }
      ]
    },
    {
      "cell_type": "code",
      "metadata": {
        "colab": {
          "base_uri": "https://localhost:8080/",
          "height": 279
        },
        "id": "fPcoJ5BN6fzi",
        "outputId": "9c700e59-1abd-4c3f-e71a-1ea066d4ea47"
      },
      "source": [
        "plt.hist(both['free sulfur dioxide'])\n",
        "plt.xlabel('Free Sulfur Dioxide')\n",
        "plt.ylabel('Frequency (Number of Bottles)')\n",
        "plt.show()"
      ],
      "execution_count": 80,
      "outputs": [
        {
          "output_type": "display_data",
          "data": {
            "text/plain": [
              "<Figure size 432x288 with 1 Axes>"
            ],
            "image/png": "[encoded data removed]"
          },
          "metadata": {
            "needs_background": "light"
          }
        }
      ]
    },
    {
      "cell_type": "markdown",
      "source": [
        "Correlation Matrix of independent variables\n",
        "\n",
        "This figure shows that there are greater correlations between certain chemical attributes of wine."
      ],
      "metadata": {
        "id": "Zsq4ESa9Tp_T"
      }
    },
    {
      "cell_type": "code",
      "source": [
        "import seaborn as sns \n",
        "import matplotlib.pyplot as plt\n",
        "\n",
        "plt.figure(figsize= (20, 10))\n",
        "sns.heatmap(both.corr(),annot= True)"
      ],
      "metadata": {
        "colab": {
          "base_uri": "https://localhost:8080/",
          "height": 696
        },
        "id": "fQp__8p6TtHU",
        "outputId": "fed04ce6-f65c-4a5c-d378-72e1c235415e"
      },
      "execution_count": 81,
      "outputs": [
        {
          "output_type": "execute_result",
          "data": {
            "text/plain": [
              "<matplotlib.axes._subplots.AxesSubplot at 0x7fb5496e7a10>"
            ]
          },
          "metadata": {},
          "execution_count": 81
        },
        {
          "output_type": "display_data",
          "data": {
            "text/plain": [
              "<Figure size 1440x720 with 2 Axes>"
            ],
            "image/png": "[encoded data removed]"
          },
          "metadata": {
            "needs_background": "light"
          }
        }
      ]
    },
    {
      "cell_type": "markdown",
      "metadata": {
        "id": "X2WfX7Dctpep"
      },
      "source": [
        "### Preparation, Splitting, Preprocessing\n",
        "\n",
        "The below code separates labels (y data) from the dataset, splits our original dataset into training and test, and preprocesses data."
      ]
    },
    {
      "cell_type": "code",
      "metadata": {
        "colab": {
          "base_uri": "https://localhost:8080/",
          "height": 469
        },
        "id": "_akfEVnp7VNs",
        "outputId": "381ae199-eb9e-488e-f10a-915194910b46"
      },
      "source": [
        "y = both['winetype']\n",
        "n_both = both.drop('winetype', 1)\n",
        "x = n_both\n",
        "\n",
        "#y data should only have binary values 0 or 1\n",
        "print(y)\n",
        "\n",
        "#checking to make sure winetype has been properly removed\n",
        "x.head()"
      ],
      "execution_count": 82,
      "outputs": [
        {
          "output_type": "stream",
          "name": "stdout",
          "text": [
            "0       0\n",
            "1       0\n",
            "2       0\n",
            "3       0\n",
            "4       0\n",
            "       ..\n",
            "3193    1\n",
            "3194    1\n",
            "3195    1\n",
            "3196    1\n",
            "3197    1\n",
            "Name: winetype, Length: 3198, dtype: int64\n"
          ]
        },
        {
          "output_type": "stream",
          "name": "stderr",
          "text": [
            "/usr/local/lib/python3.7/dist-packages/ipykernel_launcher.py:2: FutureWarning: In a future version of pandas all arguments of DataFrame.drop except for the argument 'labels' will be keyword-only\n",
            "  \n"
          ]
        },
        {
          "output_type": "execute_result",
          "data": {
            "text/plain": [
              "   fixed acidity  volatile acidity  citric acid  residual sugar  chlorides  \\\n",
              "0            6.2              0.35         0.20            18.1      0.069   \n",
              "1            7.6              0.27         0.52             3.2      0.043   \n",
              "2            7.2              0.08         0.49             1.3      0.050   \n",
              "3            6.1              0.19         0.37             2.6      0.041   \n",
              "4            6.3              0.35         0.30             5.7      0.035   \n",
              "\n",
              "   free sulfur dioxide  total sulfur dioxide  density    pH  sulphates  \\\n",
              "0                 33.0                 158.0  0.99908  3.15       0.50   \n",
              "1                 28.0                 152.0  0.99129  3.02       0.53   \n",
              "2                 18.0                 148.0  0.99450  3.46       0.44   \n",
              "3                 24.0                  99.0  0.99153  3.18       0.50   \n",
              "4                  8.0                  97.0  0.99270  3.27       0.41   \n",
              "\n",
              "   alcohol  quality  \n",
              "0      8.8        6  \n",
              "1     11.4        6  \n",
              "2     10.2        6  \n",
              "3     10.9        6  \n",
              "4     11.0        7  "
            ],
            "text/html": [
              "\n",
              "  <div id=\"df-f52cdae3-7659-416c-a257-ddb1385a3a7b\">\n",
              "    <div class=\"colab-df-container\">\n",
              "      <div>\n",
              "<style scoped>\n",
              "    .dataframe tbody tr th:only-of-type {\n",
              "        vertical-align: middle;\n",
              "    }\n",
              "\n",
              "    .dataframe tbody tr th {\n",
              "        vertical-align: top;\n",
              "    }\n",
              "\n",
              "    .dataframe thead th {\n",
              "        text-align: right;\n",
              "    }\n",
              "</style>\n",
              "<table border=\"1\" class=\"dataframe\">\n",
              "  <thead>\n",
              "    <tr style=\"text-align: right;\">\n",
              "      <th></th>\n",
              "      <th>fixed acidity</th>\n",
              "      <th>volatile acidity</th>\n",
              "      <th>citric acid</th>\n",
              "      <th>residual sugar</th>\n",
              "      <th>chlorides</th>\n",
              "      <th>free sulfur dioxide</th>\n",
              "      <th>total sulfur dioxide</th>\n",
              "      <th>density</th>\n",
              "      <th>pH</th>\n",
              "      <th>sulphates</th>\n",
              "      <th>alcohol</th>\n",
              "      <th>quality</th>\n",
              "    </tr>\n",
              "  </thead>\n",
              "  <tbody>\n",
              "    <tr>\n",
              "      <th>0</th>\n",
              "      <td>6.2</td>\n",
              "      <td>0.35</td>\n",
              "      <td>0.20</td>\n",
              "      <td>18.1</td>\n",
              "      <td>0.069</td>\n",
              "      <td>33.0</td>\n",
              "      <td>158.0</td>\n",
              "      <td>0.99908</td>\n",
              "      <td>3.15</td>\n",
              "      <td>0.50</td>\n",
              "      <td>8.8</td>\n",
              "      <td>6</td>\n",
              "    </tr>\n",
              "    <tr>\n",
              "      <th>1</th>\n",
              "      <td>7.6</td>\n",
              "      <td>0.27</td>\n",
              "      <td>0.52</td>\n",
              "      <td>3.2</td>\n",
              "      <td>0.043</td>\n",
              "      <td>28.0</td>\n",
              "      <td>152.0</td>\n",
              "      <td>0.99129</td>\n",
              "      <td>3.02</td>\n",
              "      <td>0.53</td>\n",
              "      <td>11.4</td>\n",
              "      <td>6</td>\n",
              "    </tr>\n",
              "    <tr>\n",
              "      <th>2</th>\n",
              "      <td>7.2</td>\n",
              "      <td>0.08</td>\n",
              "      <td>0.49</td>\n",
              "      <td>1.3</td>\n",
              "      <td>0.050</td>\n",
              "      <td>18.0</td>\n",
              "      <td>148.0</td>\n",
              "      <td>0.99450</td>\n",
              "      <td>3.46</td>\n",
              "      <td>0.44</td>\n",
              "      <td>10.2</td>\n",
              "      <td>6</td>\n",
              "    </tr>\n",
              "    <tr>\n",
              "      <th>3</th>\n",
              "      <td>6.1</td>\n",
              "      <td>0.19</td>\n",
              "      <td>0.37</td>\n",
              "      <td>2.6</td>\n",
              "      <td>0.041</td>\n",
              "      <td>24.0</td>\n",
              "      <td>99.0</td>\n",
              "      <td>0.99153</td>\n",
              "      <td>3.18</td>\n",
              "      <td>0.50</td>\n",
              "      <td>10.9</td>\n",
              "      <td>6</td>\n",
              "    </tr>\n",
              "    <tr>\n",
              "      <th>4</th>\n",
              "      <td>6.3</td>\n",
              "      <td>0.35</td>\n",
              "      <td>0.30</td>\n",
              "      <td>5.7</td>\n",
              "      <td>0.035</td>\n",
              "      <td>8.0</td>\n",
              "      <td>97.0</td>\n",
              "      <td>0.99270</td>\n",
              "      <td>3.27</td>\n",
              "      <td>0.41</td>\n",
              "      <td>11.0</td>\n",
              "      <td>7</td>\n",
              "    </tr>\n",
              "  </tbody>\n",
              "</table>\n",
              "</div>\n",
              "      <button class=\"colab-df-convert\" onclick=\"convertToInteractive('df-f52cdae3-7659-416c-a257-ddb1385a3a7b')\"\n",
              "              title=\"Convert this dataframe to an interactive table.\"\n",
              "              style=\"display:none;\">\n",
              "        \n",
              "  <svg xmlns=\"http://www.w3.org/2000/svg\" height=\"24px\"viewBox=\"0 0 24 24\"\n",
              "       width=\"24px\">\n",
              "    <path d=\"M0 0h24v24H0V0z\" fill=\"none\"/>\n",
              "    <path d=\"M18.56 5.44l.94 2.06.94-2.06 2.06-.94-2.06-.94-.94-2.06-.94 2.06-2.06.94zm-11 1L8.5 8.5l.94-2.06 2.06-.94-2.06-.94L8.5 2.5l-.94 2.06-2.06.94zm10 10l.94 2.06.94-2.06 2.06-.94-2.06-.94-.94-2.06-.94 2.06-2.06.94z\"/><path d=\"M17.41 7.96l-1.37-1.37c-.4-.4-.92-.59-1.43-.59-.52 0-1.04.2-1.43.59L10.3 9.45l-7.72 7.72c-.78.78-.78 2.05 0 2.83L4 21.41c.39.39.9.59 1.41.59.51 0 1.02-.2 1.41-.59l7.78-7.78 2.81-2.81c.8-.78.8-2.07 0-2.86zM5.41 20L4 18.59l7.72-7.72 1.47 1.35L5.41 20z\"/>\n",
              "  </svg>\n",
              "      </button>\n",
              "      \n",
              "  <style>\n",
              "    .colab-df-container {\n",
              "      display:flex;\n",
              "      flex-wrap:wrap;\n",
              "      gap: 12px;\n",
              "    }\n",
              "\n",
              "    .colab-df-convert {\n",
              "      background-color: #E8F0FE;\n",
              "      border: none;\n",
              "      border-radius: 50%;\n",
              "      cursor: pointer;\n",
              "      display: none;\n",
              "      fill: #1967D2;\n",
              "      height: 32px;\n",
              "      padding: 0 0 0 0;\n",
              "      width: 32px;\n",
              "    }\n",
              "\n",
              "    .colab-df-convert:hover {\n",
              "      background-color: #E2EBFA;\n",
              "      box-shadow: 0px 1px 2px rgba(60, 64, 67, 0.3), 0px 1px 3px 1px rgba(60, 64, 67, 0.15);\n",
              "      fill: #174EA6;\n",
              "    }\n",
              "\n",
              "    [theme=dark] .colab-df-convert {\n",
              "      background-color: #3B4455;\n",
              "      fill: #D2E3FC;\n",
              "    }\n",
              "\n",
              "    [theme=dark] .colab-df-convert:hover {\n",
              "      background-color: #434B5C;\n",
              "      box-shadow: 0px 1px 3px 1px rgba(0, 0, 0, 0.15);\n",
              "      filter: drop-shadow(0px 1px 2px rgba(0, 0, 0, 0.3));\n",
              "      fill: #FFFFFF;\n",
              "    }\n",
              "  </style>\n",
              "\n",
              "      <script>\n",
              "        const buttonEl =\n",
              "          document.querySelector('#df-f52cdae3-7659-416c-a257-ddb1385a3a7b button.colab-df-convert');\n",
              "        buttonEl.style.display =\n",
              "          google.colab.kernel.accessAllowed ? 'block' : 'none';\n",
              "\n",
              "        async function convertToInteractive(key) {\n",
              "          const element = document.querySelector('#df-f52cdae3-7659-416c-a257-ddb1385a3a7b');\n",
              "          const dataTable =\n",
              "            await google.colab.kernel.invokeFunction('convertToInteractive',\n",
              "                                                     [key], {});\n",
              "          if (!dataTable) return;\n",
              "\n",
              "          const docLinkHtml = 'Like what you see? Visit the ' +\n",
              "            '<a target=\"_blank\" href=https://colab.research.google.com/notebooks/data_table.ipynb>data table notebook</a>'\n",
              "            + ' to learn more about interactive tables.';\n",
              "          element.innerHTML = '';\n",
              "          dataTable['output_type'] = 'display_data';\n",
              "          await google.colab.output.renderOutput(dataTable, element);\n",
              "          const docLink = document.createElement('div');\n",
              "          docLink.innerHTML = docLinkHtml;\n",
              "          element.appendChild(docLink);\n",
              "        }\n",
              "      </script>\n",
              "    </div>\n",
              "  </div>\n",
              "  "
            ]
          },
          "metadata": {},
          "execution_count": 82
        }
      ]
    },
    {
      "cell_type": "code",
      "metadata": {
        "colab": {
          "base_uri": "https://localhost:8080/"
        },
        "id": "nbOFjuS071qM",
        "outputId": "5ecbac7a-a936-4c7e-d4e2-f6d32717ba58"
      },
      "source": [
        "x_train, x_test, y_train, y_test = train_test_split(x, y, random_state=70)\n",
        "\n",
        "print(x.shape)\n",
        "x_train.shape #75% used for training"
      ],
      "execution_count": 83,
      "outputs": [
        {
          "output_type": "stream",
          "name": "stdout",
          "text": [
            "(3198, 12)\n"
          ]
        },
        {
          "output_type": "execute_result",
          "data": {
            "text/plain": [
              "(2398, 12)"
            ]
          },
          "metadata": {},
          "execution_count": 83
        }
      ]
    },
    {
      "cell_type": "code",
      "metadata": {
        "id": "rxc8DXq4mTrv"
      },
      "source": [
        "#standard scaling\n",
        "from sklearn.preprocessing import StandardScaler\n",
        "scaler = StandardScaler().fit(x_train)\n",
        "x_train_scaled = scaler.transform(x_train)  \n",
        "x_test_scaled = scaler.transform(x_test)"
      ],
      "execution_count": 84,
      "outputs": []
    },
    {
      "cell_type": "markdown",
      "source": [
        "### Modeling\n",
        "The following classification models have been examined for this classification problem:\n",
        "\n",
        "1. Logistic Regression\n",
        "2. Penalized Logistic Regression (L2 regularization)\n",
        "3. Random Forest Classifier\n",
        "4. Support Vector Machine (Classifer)"
      ],
      "metadata": {
        "id": "IkkCWCe9PO_A"
      }
    },
    {
      "cell_type": "markdown",
      "source": [
        "**Logistic regression**"
      ],
      "metadata": {
        "id": "-hbXWuifP7e0"
      }
    },
    {
      "cell_type": "code",
      "metadata": {
        "colab": {
          "base_uri": "https://localhost:8080/"
        },
        "id": "fOooEJVSNpuG",
        "outputId": "697f7355-5b49-4bab-ee2b-1c77fbd9fe5e"
      },
      "source": [
        "from sklearn.linear_model import LogisticRegression\n",
        "\n",
        "#logistic regression no penalty\n",
        "logreg = LogisticRegression(penalty='none', max_iter=1000, solver='lbfgs').fit(x_train_scaled, y_train)\n",
        "\n",
        "#examine coefficient magnitudes\n",
        "print(\"logreg .coef_: {}\".format(logreg.coef_))\n",
        "\n",
        "print(\"Training set score: {:.3f}\".format(logreg.score(x_train_scaled, y_train)))\n",
        "print(\"Test set score: {:.3f}\".format(logreg.score(x_test_scaled, y_test)))\n",
        "\n"
      ],
      "execution_count": 85,
      "outputs": [
        {
          "output_type": "stream",
          "name": "stdout",
          "text": [
            "logreg .coef_: [[-1.86392158  0.83423893 -0.27076941 -4.46248467  1.2630858   0.17227847\n",
            "  -2.74712118  7.76593779 -0.68558608 -0.22924685  3.70777301  0.59445444]]\n",
            "Training set score: 0.994\n",
            "Test set score: 0.991\n"
          ]
        }
      ]
    },
    {
      "cell_type": "code",
      "source": [
        "from sklearn.metrics import classification_report\n",
        "\n",
        "#model metrics\n",
        "predicted_vals = logreg.predict(x_test) \n",
        "print(classification_report(y_test,predicted_vals))"
      ],
      "metadata": {
        "colab": {
          "base_uri": "https://localhost:8080/"
        },
        "id": "ApsTqAtHwk8N",
        "outputId": "003fdf97-0752-43e7-e903-fd8f363cd4e7"
      },
      "execution_count": 86,
      "outputs": [
        {
          "output_type": "stream",
          "name": "stdout",
          "text": [
            "              precision    recall  f1-score   support\n",
            "\n",
            "           0       0.50      1.00      0.67       396\n",
            "           1       1.00      0.01      0.03       404\n",
            "\n",
            "    accuracy                           0.50       800\n",
            "   macro avg       0.75      0.51      0.35       800\n",
            "weighted avg       0.75      0.50      0.34       800\n",
            "\n"
          ]
        },
        {
          "output_type": "stream",
          "name": "stderr",
          "text": [
            "/usr/local/lib/python3.7/dist-packages/sklearn/base.py:444: UserWarning: X has feature names, but LogisticRegression was fitted without feature names\n",
            "  f\"X has feature names, but {self.__class__.__name__} was fitted without\"\n"
          ]
        }
      ]
    },
    {
      "cell_type": "markdown",
      "source": [
        "**Penalized logistic regression (L2)**"
      ],
      "metadata": {
        "id": "YLz3cdIVUYl8"
      }
    },
    {
      "cell_type": "code",
      "metadata": {
        "colab": {
          "base_uri": "https://localhost:8080/"
        },
        "id": "iuov-xpTNqCm",
        "outputId": "08c523b9-989a-4dac-c4fd-c7fc5fd3ff34"
      },
      "source": [
        "#logistic regression l2 penalty\n",
        "logreg1 = LogisticRegression(C=100, penalty='l2', max_iter=10000).fit(x_train, y_train)\n",
        "\n",
        "print(\"logreg .coef_: {}\".format(logreg1.coef_))\n",
        "\n",
        "print(\"Training set score: {:.3f}\".format(logreg1.score(x_train, y_train)))\n",
        "print(\"Test set score: {:.3f}\".format(logreg1.score(x_test, y_test)))\n"
      ],
      "execution_count": 87,
      "outputs": [
        {
          "output_type": "stream",
          "name": "stdout",
          "text": [
            "logreg .coef_: [[ 1.08444982e+00  1.13080895e+01 -5.50923685e-01 -6.32807291e-02\n",
            "   3.36026679e+01  1.98947118e-02 -5.45255402e-02  5.33112583e+00\n",
            "   7.98733464e+00  9.75248820e+00 -2.91447330e-01  8.54550523e-02]]\n",
            "Training set score: 0.988\n",
            "Test set score: 0.986\n"
          ]
        }
      ]
    },
    {
      "cell_type": "code",
      "metadata": {
        "colab": {
          "base_uri": "https://localhost:8080/"
        },
        "id": "QNJVEZdagEAB",
        "outputId": "705900bf-5b12-4851-b483-8c29fef7ade4"
      },
      "source": [
        "param_grid = {'C' : np.logspace(-3, 3, 10,10)}\n",
        "grid = GridSearchCV(LogisticRegression(max_iter=10000), param_grid, cv=10)\n",
        "grid.fit(x_train, y_train)\n",
        "\n",
        "print(\"best mean cross-validation score: {:.3f}\".format(grid.best_score_))\n",
        "print(\"best parameters: {}\".format(grid.best_params_))\n",
        "print(\"test-set score: {:.3f}\".format(grid.score(x_test, y_test)))\n",
        "\n",
        "predicted_vals = grid.predict(x_test)"
      ],
      "execution_count": 88,
      "outputs": [
        {
          "output_type": "stream",
          "name": "stdout",
          "text": [
            "best mean cross-validation score: 0.987\n",
            "best parameters: {'C': 215.44346900318823}\n",
            "test-set score: 0.985\n"
          ]
        }
      ]
    },
    {
      "cell_type": "code",
      "source": [
        "from sklearn.metrics import classification_report\n",
        "\n",
        "print(classification_report(y_test,predicted_vals))"
      ],
      "metadata": {
        "colab": {
          "base_uri": "https://localhost:8080/"
        },
        "id": "p9nQKc2qxTG4",
        "outputId": "a25b3a87-f435-402d-ad9a-9617ed89403d"
      },
      "execution_count": 89,
      "outputs": [
        {
          "output_type": "stream",
          "name": "stdout",
          "text": [
            "              precision    recall  f1-score   support\n",
            "\n",
            "           0       0.98      0.99      0.98       396\n",
            "           1       0.99      0.98      0.98       404\n",
            "\n",
            "    accuracy                           0.98       800\n",
            "   macro avg       0.99      0.99      0.98       800\n",
            "weighted avg       0.99      0.98      0.98       800\n",
            "\n"
          ]
        }
      ]
    },
    {
      "cell_type": "markdown",
      "source": [
        "**K-Neighbors Classifier**"
      ],
      "metadata": {
        "id": "KU4vRAI0UfWC"
      }
    },
    {
      "cell_type": "code",
      "metadata": {
        "colab": {
          "base_uri": "https://localhost:8080/"
        },
        "id": "61tRvKvdNqL5",
        "outputId": "bce0b3c1-bf13-4ec5-84e3-2ebe4844cf14"
      },
      "source": [
        "from sklearn.neighbors import KNeighborsClassifier\n",
        "knn = KNeighborsClassifier(n_neighbors=5) #5 is default\n",
        "knn.fit(x_train, y_train)\n",
        "print(knn.score(x_test, y_test))\n",
        "\n",
        "print(\"Training set score: {:.3f}\".format(logreg1.score(x_train, y_train)))\n",
        "print(\"Test set score: {:.3f}\".format(logreg1.score(x_test, y_test)))\n",
        "y_pred = knn.predict(x_test)"
      ],
      "execution_count": 90,
      "outputs": [
        {
          "output_type": "stream",
          "name": "stdout",
          "text": [
            "0.90625\n",
            "Training set score: 0.988\n",
            "Test set score: 0.986\n"
          ]
        }
      ]
    },
    {
      "cell_type": "markdown",
      "source": [
        "Let's run our models again, but see how scaled data affects their performance"
      ],
      "metadata": {
        "id": "mE6GJWAYqXdU"
      }
    },
    {
      "cell_type": "code",
      "metadata": {
        "id": "kIx1wjAsmT1J"
      },
      "source": [
        "#fitting again for scaled data\n",
        "logreg = LogisticRegression(penalty='none', max_iter=10000).fit(x_train_scaled, y_train)\n",
        "logreg1 = LogisticRegression(C=100,penalty='l2', max_iter=10000).fit(x_train_scaled, y_train)\n",
        "knn = KNeighborsClassifier(n_neighbors=5).fit(x_train_scaled, y_train)"
      ],
      "execution_count": 91,
      "outputs": []
    },
    {
      "cell_type": "code",
      "metadata": {
        "colab": {
          "base_uri": "https://localhost:8080/"
        },
        "id": "qq4WyAo6mT4B",
        "outputId": "fba5cee2-1a53-40c7-ea92-ecb536a4c290"
      },
      "source": [
        "#cv scores\n",
        "\n",
        "#logistic regression\n",
        "print(\"Training set score: {:.3f}\".format(logreg.score(x_train_scaled, y_train)))\n",
        "print(\"Test set score: {:.3f}\".format(logreg.score(x_test_scaled, y_test)))\n",
        "\n",
        "#penalized logistic regression\n",
        "print(\"Training set score: {:.3f}\".format(logreg1.score(x_train_scaled, y_train)))\n",
        "print(\"Test set score: {:.3f}\".format(logreg1.score(x_test_scaled, y_test)))\n",
        "\n",
        "#Knn\n",
        "print(\"Training set score: {:.3f}\".format(knn.score(x_train_scaled, y_train)))\n",
        "print(\"Test set score: {:.3f}\".format(knn.score(x_test_scaled, y_test)))"
      ],
      "execution_count": 92,
      "outputs": [
        {
          "output_type": "stream",
          "name": "stdout",
          "text": [
            "Training set score: 0.994\n",
            "Test set score: 0.991\n",
            "Training set score: 0.994\n",
            "Test set score: 0.991\n",
            "Training set score: 0.992\n",
            "Test set score: 0.988\n"
          ]
        }
      ]
    },
    {
      "cell_type": "markdown",
      "metadata": {
        "id": "wENiBOwYtphm"
      },
      "source": [
        "#### Model Optimization \n",
        "Now that we see how scaled data dramatically improves our model, lets try tuning the parameters where possible using GridSearchCV. Do the results improve?\n",
        "\n",
        "\n",
        "\n",
        "Using Kfold (k=10) cross validation, what are the best results from doing a grid search?\n",
        "\n"
      ]
    },
    {
      "cell_type": "code",
      "metadata": {
        "colab": {
          "base_uri": "https://localhost:8080/"
        },
        "id": "xdyTPzWygEGa",
        "outputId": "22516857-1555-4a43-96e9-4404c451ebd5"
      },
      "source": [
        "param_grid = {'C' : np.logspace(-3, 3, 10,10)} \n",
        "\n",
        "grid1 = GridSearchCV(LogisticRegression(max_iter=10000, penalty=\"l2\"), param_grid, cv=10)\n",
        "grid1.fit(x_train_scaled, y_train)\n",
        "\n",
        "print(\"best mean cross-validation score: {:.3f}\".format(grid1.best_score_))\n",
        "print(\"best parameters: {}\".format(grid1.best_params_))\n",
        "print(\"test-set score: {:.3f}\".format(grid1.score(x_test_scaled, y_test)))"
      ],
      "execution_count": 93,
      "outputs": [
        {
          "output_type": "stream",
          "name": "stdout",
          "text": [
            "best mean cross-validation score: 0.992\n",
            "best parameters: {'C': 0.1}\n",
            "test-set score: 0.989\n"
          ]
        }
      ]
    },
    {
      "cell_type": "code",
      "source": [
        "param_grid = {'n_neighbors' : range(3, 13, 2)}\n",
        "grid2 = GridSearchCV(KNeighborsClassifier(), param_grid, cv=10)\n",
        "grid2.fit(x_train_scaled, y_train)\n",
        "\n",
        "print(\"best mean cross-validation score: {:.3f}\".format(grid2.best_score_))\n",
        "print(\"best parameters: {}\".format(grid2.best_params_))\n",
        "print(\"test-set score: {:.3f}\".format(grid2.score(x_test_scaled, y_test)))"
      ],
      "metadata": {
        "colab": {
          "base_uri": "https://localhost:8080/"
        },
        "id": "2XwlQJZcpHmq",
        "outputId": "b7281dfb-da35-4451-8850-cfaf3d829c1e"
      },
      "execution_count": 94,
      "outputs": [
        {
          "output_type": "stream",
          "name": "stdout",
          "text": [
            "best mean cross-validation score: 0.990\n",
            "best parameters: {'n_neighbors': 11}\n",
            "test-set score: 0.989\n"
          ]
        }
      ]
    },
    {
      "cell_type": "markdown",
      "metadata": {
        "id": "xVtxM9kjtt_M"
      },
      "source": [
        "Using GridSearchCV again, but this time changing the cross-validation strategy from ‘kfold’ to ‘stratified kfold’. \n",
        "\n",
        "Additionally: Do the parameters for models that can be tuned change? Do they change if you change the random seed of the shuffling? Or if you change the random state of the split into training and test data?"
      ]
    },
    {
      "cell_type": "code",
      "metadata": {
        "id": "1QJhB0qagGMy",
        "colab": {
          "base_uri": "https://localhost:8080/"
        },
        "outputId": "26569c8a-c7ef-4159-a322-b83d8a3d710b"
      },
      "source": [
        "param_grid = {'C' : np.logspace(-3, 3, 10,10)} \n",
        "\n",
        "grid3 = GridSearchCV(LogisticRegression(max_iter=10000, penalty=\"l2\"), param_grid, cv=StratifiedKFold())\n",
        "grid3.fit(x_train_scaled, y_train)\n",
        "\n",
        "print(\"best mean cross-validation score: {:.3f}\".format(grid3.best_score_))\n",
        "print(\"best parameters: {}\".format(grid3.best_params_))\n",
        "print(\"test-set score: {:.3f}\".format(grid3.score(x_test_scaled, y_test)))"
      ],
      "execution_count": 95,
      "outputs": [
        {
          "output_type": "stream",
          "name": "stdout",
          "text": [
            "best mean cross-validation score: 0.993\n",
            "best parameters: {'C': 0.46415888336127775}\n",
            "test-set score: 0.993\n"
          ]
        }
      ]
    },
    {
      "cell_type": "code",
      "source": [
        "param_grid = {'n_neighbors' : range(3, 13, 2)}\n",
        "grid4 = GridSearchCV(KNeighborsClassifier(), param_grid, cv=StratifiedKFold())\n",
        "grid4.fit(x_train_scaled, y_train)\n",
        "\n",
        "print(\"best mean cross-validation score: {:.3f}\".format(grid4.best_score_))\n",
        "print(\"best parameters: {}\".format(grid4.best_params_))\n",
        "print(\"test-set score: {:.3f}\".format(grid4.score(x_test_scaled, y_test)))"
      ],
      "metadata": {
        "colab": {
          "base_uri": "https://localhost:8080/"
        },
        "id": "pUe8VRl3UfyS",
        "outputId": "6ad1fdfb-6f4c-4028-b799-7219082469ae"
      },
      "execution_count": 96,
      "outputs": [
        {
          "output_type": "stream",
          "name": "stdout",
          "text": [
            "best mean cross-validation score: 0.990\n",
            "best parameters: {'n_neighbors': 3}\n",
            "test-set score: 0.985\n"
          ]
        }
      ]
    },
    {
      "cell_type": "markdown",
      "metadata": {
        "id": "xmqxpeNdtuEL"
      },
      "source": [
        "Lastly, let's compare the coefficients for Logistic Regression and Penalized Logistic Regression.\n",
        "\n",
        "The coefficients are of the same magnitude between both models. From the score and cross validation output, I would not choose one model over the other. The only reason i would choose the logistic model over the penalized logistic model is because there is one less parameter that I need to worry about, but other than that both models have shown they hold up well under the tuning that I did."
      ]
    },
    {
      "cell_type": "code",
      "metadata": {
        "colab": {
          "base_uri": "https://localhost:8080/"
        },
        "id": "Be6wx87rnqjO",
        "outputId": "a6437bf9-788b-4b0d-d335-8d634790185e"
      },
      "source": [
        "print(\"logreg .coef_: {}\".format(logreg.coef_))\n",
        "print(\"logreg1 .coef_: {}\".format(logreg1.coef_))"
      ],
      "execution_count": 105,
      "outputs": [
        {
          "output_type": "stream",
          "name": "stdout",
          "text": [
            "logreg .coef_: [[-1.86392158  0.83423893 -0.27076941 -4.46248467  1.2630858   0.17227847\n",
            "  -2.74712118  7.76593779 -0.68558608 -0.22924685  3.70777301  0.59445444]]\n",
            "logreg1 .coef_: [[-1.80868366  0.84694206 -0.27031666 -4.38135085  1.25688019  0.16814565\n",
            "  -2.73026643  7.63079346 -0.65693547 -0.20764592  3.63339761  0.58859642]]\n"
          ]
        }
      ]
    },
    {
      "cell_type": "code",
      "source": [
        "model = grid3.best_estimator_\n",
        "names = list(x_train.columns)\n",
        "values = model.coef_.tolist()[0]\n",
        "\n",
        "plt.figure(figsize=(8,8))\n",
        "plt.bar(names, values)\n",
        "plt.xticks(rotation=45)\n",
        "plt.xlabel(\"Features\")\n",
        "plt.ylabel(\"Coefficient Magnitude\")\n",
        "plt.title(\"\")\n",
        "plt.show"
      ],
      "metadata": {
        "colab": {
          "base_uri": "https://localhost:8080/",
          "height": 577
        },
        "id": "IrfCGJSggzWX",
        "outputId": "fcc7014e-ac46-42cc-bc20-1ba8c32dc626"
      },
      "execution_count": 106,
      "outputs": [
        {
          "output_type": "execute_result",
          "data": {
            "text/plain": [
              "<function matplotlib.pyplot.show(*args, **kw)>"
            ]
          },
          "metadata": {},
          "execution_count": 106
        },
        {
          "output_type": "display_data",
          "data": {
            "text/plain": [
              "<Figure size 576x576 with 1 Axes>"
            ],
            "image/png": "[encoded data removed]"
          },
          "metadata": {
            "needs_background": "light"
          }
        }
      ]
    },
    {
      "cell_type": "code",
      "source": [
        "model = grid1.best_estimator_\n",
        "names = list(x_train.columns)\n",
        "values = model.coef_.tolist()[0]\n",
        "\n",
        "plt.figure(figsize=(8,8))\n",
        "plt.bar(names, values)\n",
        "plt.xticks(rotation=45)\n",
        "plt.xlabel(\"Features\")\n",
        "plt.ylabel(\"Coefficient Magnitude\")\n",
        "plt.title(\"\")\n",
        "plt.show"
      ],
      "metadata": {
        "colab": {
          "base_uri": "https://localhost:8080/",
          "height": 577
        },
        "id": "zJSAxnJIgxwb",
        "outputId": "4d82a31e-ba9a-4514-8862-8c4d4b9e2cc7"
      },
      "execution_count": 107,
      "outputs": [
        {
          "output_type": "execute_result",
          "data": {
            "text/plain": [
              "<function matplotlib.pyplot.show(*args, **kw)>"
            ]
          },
          "metadata": {},
          "execution_count": 107
        },
        {
          "output_type": "display_data",
          "data": {
            "text/plain": [
              "<Figure size 576x576 with 1 Axes>"
            ],
            "image/png": "[encoded data removed]"
          },
          "metadata": {
            "needs_background": "light"
          }
        }
      ]
    }
  ]
}